{
 "cells": [
  {
   "cell_type": "code",
   "execution_count": 10,
   "metadata": {},
   "outputs": [
    {
     "name": "stdout",
     "output_type": "stream",
     "text": [
      "   Age  Salary  Purchased\n",
      "0   20   19000          0\n",
      "1   36   20000          0\n",
      "2   27   43000          0\n",
      "3   28   57000          0\n",
      "4   20   76000          0\n",
      "[[65  3]\n",
      " [ 8 24]]\n",
      "0.89\n"
     ]
    }
   ],
   "source": [
    "import pandas as pd\n",
    "import numpy as np\n",
    "import matplotlib.pyplot as plt\n",
    "\n",
    "dataset = pd.read_csv('S(1).csv')\n",
    "print(dataset.head(5))\n",
    "\n",
    "#划分数据集\n",
    "from sklearn.model_selection import train_test_split\n",
    "from sklearn.preprocessing import StandardScaler\n",
    "X = dataset[['Age','Salary']]\n",
    "ss = StandardScaler()\n",
    "X = ss.fit_transform(X)\n",
    "Y = dataset['Purchased']\n",
    "X_train,X_test,Y_train,Y_test = train_test_split(X,Y,test_size=0.25,random_state=0)\n",
    "\n",
    "from sklearn.linear_model import LogisticRegression\n",
    "logistic = LogisticRegression()\n",
    "logistic.fit(X_train,Y_train)\n",
    "y_pred = logistic.predict(X_test)\n",
    "\n",
    "from sklearn import metrics\n",
    "cm = metrics.confusion_matrix(Y_test,y_pred)\n",
    "print(cm)\n",
    "print(+metrics.accuracy_score(Y_test,y_pred))"
   ]
  }
 ],
 "metadata": {
  "kernelspec": {
   "display_name": "Python 3",
   "language": "python",
   "name": "python3"
  },
  "language_info": {
   "codemirror_mode": {
    "name": "ipython",
    "version": 3
   },
   "file_extension": ".py",
   "mimetype": "text/x-python",
   "name": "python",
   "nbconvert_exporter": "python",
   "pygments_lexer": "ipython3",
   "version": "3.7.0"
  }
 },
 "nbformat": 4,
 "nbformat_minor": 2
}
