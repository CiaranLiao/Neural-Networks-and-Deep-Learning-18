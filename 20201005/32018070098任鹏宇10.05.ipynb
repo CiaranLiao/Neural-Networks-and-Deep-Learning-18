{
 "cells": [
  {
   "cell_type": "code",
   "execution_count": 39,
   "metadata": {},
   "outputs": [
    {
     "name": "stdout",
     "output_type": "stream",
     "text": [
      "   sizes  bedrooms   price\n",
      "0   2104         3  399900\n",
      "1   1600         3  329900\n",
      "2   2400         3  369000\n",
      "3   1416         2  232000\n",
      "4   3000         4  539900 \n",
      "\n",
      "      sizes  bedrooms     price\n",
      "0  0.130010 -0.223675  0.475747\n",
      "1 -0.504190 -0.223675 -0.084074\n",
      "2  0.502476 -0.223675  0.228626\n",
      "3 -0.735723 -1.537767 -0.867025\n",
      "4  1.257476  1.090417  1.595389 \n",
      "\n",
      "0.13070336960771892 \n",
      "\n"
     ]
    },
    {
     "data": {
      "image/png": "[encoded data removed]",
      "text/plain": [
       "<Figure size 432x288 with 1 Axes>"
      ]
     },
     "metadata": {
      "needs_background": "light"
     },
     "output_type": "display_data"
    },
    {
     "name": "stdout",
     "output_type": "stream",
     "text": [
      "最优参数值theta： [[-1.01911616e-16  8.78503652e-01 -4.69166570e-02]] \n",
      "\n"
     ]
    }
   ],
   "source": [
    "from numpy import *\n",
    "import numpy as np\n",
    "import pandas as pd4\n",
    "import matplotlib.pyplot as plt\n",
    "\n",
    "path=r'D:\\jupyter\\人工神经网络\\data\\ex1data2.txt'\n",
    "df=pd.read_csv(path,names=['sizes','bedrooms','price'],encoding='utf-8')\n",
    "print(df.head(),\"\\n\")\n",
    "\n",
    "#特征缩放\n",
    "df['sizes']=(df['sizes']-df['sizes'].mean())/df['sizes'].std()\n",
    "df['bedrooms']=(df['bedrooms']-df['bedrooms'].mean())/df['bedrooms'].std()\n",
    "df['price']=(df['price']-df['price'].mean())/df['price'].std()\n",
    "print(df.head(),\"\\n\")\n",
    "\n",
    "theta=np.matrix(np.zeros(3))\n",
    "df.insert(0,'ones',1)#插入一列，作为x0，值为1\n",
    "cols=df.shape[1]\n",
    "X=np.matrix(df.iloc[:,:cols-1])\n",
    "Y=np.matrix(df.iloc[:,cols-1:cols])\n",
    "\n",
    "def costFunction(X,Y,theta):\n",
    "    m=X.shape[0]\n",
    "    return np.sum(np.power(X*theta.T-Y,2))/(2*m)\n",
    "\n",
    "def gradientDescent(X,Y,theta,alpha,epoch):\n",
    "    m=X.shape[0]\n",
    "    cost=[]\n",
    "    for i in range(epoch):\n",
    "        theta=theta-alpha/m*(X*theta.T-Y).T*X\n",
    "        cost.append(costFunction(X,Y,theta))\n",
    "    return theta,cost\n",
    "\n",
    "alpha=0.01\n",
    "epoch=1000\n",
    "final_theta,cost=gradientDescent(X,Y,theta,alpha,epoch)\n",
    "final_cost=costFunction(X,Y,final_theta)\n",
    "print(final_cost,\"\\n\")\n",
    "\n",
    "#画图查看过程\n",
    "plt.rcParams['font.sans-serif']=['SimHei']\n",
    "plt.rcParams['axes.unicode_minus'] = False\n",
    "fig,ax = plt.subplots()\n",
    "ax.plot(np.arange(epoch),cost,'r')\n",
    "ax.set_xlabel('Iterations')\n",
    "ax.set_ylabel('Cost')\n",
    "ax.set_title(\"价函数变化过程\")\n",
    "plt.show()\n",
    "\n",
    "print(\"最优参数值theta：\",final_theta,\"\\n\")\n"
   ]
  },
  {
   "cell_type": "code",
   "execution_count": null,
   "metadata": {},
   "outputs": [],
   "source": []
  }
 ],
 "metadata": {
  "kernelspec": {
   "display_name": "Python 3",
   "language": "python",
   "name": "python3"
  },
  "language_info": {
   "codemirror_mode": {
    "name": "ipython",
    "version": 3
   },
   "file_extension": ".py",
   "mimetype": "text/x-python",
   "name": "python",
   "nbconvert_exporter": "python",
   "pygments_lexer": "ipython3",
   "version": "3.7.6"
  }
 },
 "nbformat": 4,
 "nbformat_minor": 4
}
