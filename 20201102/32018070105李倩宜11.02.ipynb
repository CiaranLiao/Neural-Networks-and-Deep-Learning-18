{
 "cells": [
  {
   "cell_type": "code",
   "execution_count": 2,
   "metadata": {},
   "outputs": [
    {
     "ename": "SyntaxError",
     "evalue": "(unicode error) 'unicodeescape' codec can't decode bytes in position 2-3: truncated \\UXXXXXXXX escape (<ipython-input-2-8cc93fe6a86f>, line 27)",
     "output_type": "error",
     "traceback": [
      "\u001b[1;36m  File \u001b[1;32m\"<ipython-input-2-8cc93fe6a86f>\"\u001b[1;36m, line \u001b[1;32m27\u001b[0m\n\u001b[1;33m    data=np.loadtxt('C:\\Users\\李海峰\\Desktop\\人工神经网络\\iris.data',dtype=float,delimiter=',',converters={4:iris_vers})\u001b[0m\n\u001b[1;37m                   ^\u001b[0m\n\u001b[1;31mSyntaxError\u001b[0m\u001b[1;31m:\u001b[0m (unicode error) 'unicodeescape' codec can't decode bytes in position 2-3: truncated \\UXXXXXXXX escape\n"
     ]
    }
   ],
   "source": [
    "import numpy as np\n",
    "\n",
    "from matplotlib import colors\n",
    "\n",
    "import matplotlib.pyplot as plt\n",
    "\n",
    "import matplotlib as mpl\n",
    "\n",
    "from sklearn  import svm\n",
    "\n",
    "from sklearn.svm import SVC\n",
    "\n",
    "from sklearn  import model_selection\n",
    "\n",
    "from sklearn.metrics import accuracy_score\n",
    "\n",
    "\n",
    "\n",
    "def iris_vers(s):\n",
    "\n",
    "    it={b'Iris-setosa':0,b'Iris-versicolor':1,b'Iris-virginica':2}\n",
    "\n",
    "    return it[s]\n",
    "\n",
    "data=np.loadtxt('C:\\Users\\李海峰\\Desktop\\人工神经网络\\iris.data',dtype=float,delimiter=',',converters={4:iris_vers})\n",
    "x,y=np.split(data,(4,),axis=1)\n",
    "x=x[:,0:2]\n",
    "print(x)\n",
    "x_train,x_test,y_train,y_test=model_selection.train_test_split(x,y,random_state=1,test_size=0.3)\n",
    "def classfier():\n",
    "    return svm.SVC(C=0.5,kernel='linear',decision_function_shape='ovr')\n",
    "clf=classfier()\n",
    "def train(clf,x_train,y_train):\n",
    "    clf.fit(x_train,y_train.ravel())\n",
    "train(clf,x_train,y_train)\n",
    "def show_accuracy(a,b,tip):\n",
    "    acc=a.ravel()==b.ravel()\n",
    "    print(tip,'准确率：',np.mean(acc))\n",
    "def print_accuracy(clf,x_train,y_train,x_test,y_test):\n",
    "    show_accuracy(clf.predict(x_train),y_train,'training')\n",
    "    show_accuracy(clf.predict(x_test),y_test,'testing')\n",
    "    print(clf.decision_function(x_train))\n",
    "print_accuracy(clf,x_train,y_train,x_test,y_test)\n",
    "def draw(clf,x):\n",
    "    iris_feature='speal_length','speal_width','petal_length','petal_width'\n",
    "    x1_min,x1_max=x[:,0].min(),x[:,0].max()\n",
    "    x2_min,x2_max=x[:,1].min(),x[:,1].max()\n",
    "    x1,x2=np.mgrid[x1_min:x1_max:200j,x2_min:x2_max:200j]\n",
    "    grid_test=np.stack((x1.flat,x2.flat),axis=1)\n",
    "    print(grid_test)\n",
    "    z=clf.decision_function(grid_test)\n",
    "    grid_hat=clf.predict(grid_test)\n",
    "    grid_hat=grid_hat.reshape(x1.shape)\n",
    "    cm_light=mpl.colors.ListedColormap(['blue','pink','yellow'])\n",
    "    cm_dark=mpl.colors.ListedColormap(['g','r','b'])\n",
    "    plt.pcolormesh(x1,x2,grid_hat,cmap=cm_light)\n",
    "    plt.scatter(x[:,0],x[:,1],c=np.squeeze(y),edgecolor='k',s=50,cmap=cm_dark)\\\n",
    "    plt.scatter(x_test[:,0],x_test[:,1],s=120,facecolor='none',zorder=10)\n",
    "    plt.xlabel(iris_feature[0],fontsize=20)\n",
    "    plt.ylabel(iris_feature[1],fontsize=20)\n",
    "    plt.xlim(x1_min,x1_max)\n",
    "    plt.ylim(x2_min,x2_max)\n",
    "    plt.grid()\n",
    "    plt.show()\n",
    "draw(clf,x)\n",
    " "
   ]
  },
  {
   "cell_type": "code",
   "execution_count": null,
   "metadata": {},
   "outputs": [],
   "source": []
  }
 ],
 "metadata": {
  "kernelspec": {
   "display_name": "Python 3",
   "language": "python",
   "name": "python3"
  },
  "language_info": {
   "codemirror_mode": {
    "name": "ipython",
    "version": 3
   },
   "file_extension": ".py",
   "mimetype": "text/x-python",
   "name": "python",
   "nbconvert_exporter": "python",
   "pygments_lexer": "ipython3",
   "version": "3.7.6"
  }
 },
 "nbformat": 4,
 "nbformat_minor": 4
}
