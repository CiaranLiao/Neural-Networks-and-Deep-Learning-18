{
 "cells": [
  {
   "cell_type": "code",
   "execution_count": 5,
   "metadata": {
    "scrolled": true
   },
   "outputs": [
    {
     "name": "stdout",
     "output_type": "stream",
     "text": [
      "0.13070336960771892\n"
     ]
    }
   ],
   "source": [
    "import numpy as np\n",
    "import pandas as pd\n",
    "import matplotlib.pyplot as plt\n",
    "\n",
    "path = r'C:\\\\Users\\\\12700\\\\Desktop\\\\ex1data2.txt'\n",
    "data = pd.read_csv(path,names = ['sizes','rooms','prices'])\n",
    "\n",
    "data['sizes'] = (data['sizes'] - data['sizes'].mean())/data['sizes'].std()\n",
    "data['rooms'] = (data['rooms'] - data['rooms'].mean())/data['rooms'].std()\n",
    "data['prices'] = (data['prices'] - data['prices'].mean())/data['prices'].std()\n",
    "\n",
    "theta = np.matrix(np.zeros(3))\n",
    "data.insert(0,'ones',1)\n",
    "cols = data.shape[1]\n",
    "X = np.matrix(data.iloc[:,0:cols-1])\n",
    "Y = np.matrix(data.iloc[:,cols-1:cols])\n",
    "#代价函数\n",
    "def computeCost(X,Y,theta):\n",
    "    m = X.shape[0]\n",
    "    return np.sum(np.power((X*theta.T) - Y,2))/(2*m)\n",
    "\n",
    "#梯度下降\n",
    "def gradientDescent(X,Y,theta,alpha,epoch):\n",
    "    m = X.shape[0]\n",
    "    cost = []\n",
    "    for i in range(epoch):\n",
    "        theta = theta - alpha/m*(X*theta.T - Y).T*X\n",
    "        cost.append(computeCost(X,Y,theta))       #列表添加元素\n",
    "    return theta,cost\n",
    "\n",
    "alpha = 0.01\n",
    "epoch = 1000\n",
    "final_theta,cost = gradientDescent(X,Y,theta,alpha,epoch)\n",
    "final_cost = computeCost(X,Y,final_theta)\n",
    "print(final_cost)"
   ]
  },
  {
   "cell_type": "code",
   "execution_count": null,
   "metadata": {},
   "outputs": [],
   "source": []
  }
 ],
 "metadata": {
  "kernelspec": {
   "display_name": "Python 3",
   "language": "python",
   "name": "python3"
  },
  "language_info": {
   "codemirror_mode": {
    "name": "ipython",
    "version": 3
   },
   "file_extension": ".py",
   "mimetype": "text/x-python",
   "name": "python",
   "nbconvert_exporter": "python",
   "pygments_lexer": "ipython3",
   "version": "3.7.0"
  }
 },
 "nbformat": 4,
 "nbformat_minor": 2
}
