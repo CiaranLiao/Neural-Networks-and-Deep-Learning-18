{
 "cells": [
  {
   "cell_type": "code",
   "execution_count": null,
   "metadata": {},
   "outputs": [],
   "source": [
    "import numpy as np\n",
    "import matplotlib.pyplot as plt\n",
    "import pandas as pd\n",
    "data=np.loadtxt('C:/Users/李海峰/Desktop/人工神经网络/ex1data2.txt',delimiter=\",\",dtype=\"float\")\n",
    "m=np.size(data[:,0])\n",
    "\n",
    "X=data[:,0:1]\n",
    "y=data[:,1:2]\n",
    "plt.plot(X,y,\"rx\")\n",
    "plt.xlabel('Population of City in 10,000s')\n",
    "plt.ylabel('Profit in $10,000s')\n",
    "plt.show()\n",
    "\n",
    "one=np.ones(m)\n",
    "X=np.insert(X,0,values=one,axis=1)\n",
    "\n",
    "theta=np.zeros((2,1))\n",
    "iterations=1500\n",
    "alpha=0.01\n",
    "\n",
    "J_history = np.zeros((iterations,1))\n",
    "for iter in range(0,iterations):\n",
    "    theta=theta-alpha/m*np.dot(X.T,(np.dot(X,theta)-y))\n",
    "    J_history[iter]=computeCost(X, y, theta)\n",
    "    \n",
    "plt.plot(data[:,0],np.dot(X,theta),'-')\n",
    "plt.show()\n",
    "\n",
    "print(theta)\n",
    "print(J_history)\n"
   ]
  },
  {
   "cell_type": "code",
   "execution_count": null,
   "metadata": {},
   "outputs": [],
   "source": []
  }
 ],
 "metadata": {
  "kernelspec": {
   "display_name": "Python 3",
   "language": "python",
   "name": "python3"
  },
  "language_info": {
   "codemirror_mode": {
    "name": "ipython",
    "version": 3
   },
   "file_extension": ".py",
   "mimetype": "text/x-python",
   "name": "python",
   "nbconvert_exporter": "python",
   "pygments_lexer": "ipython3",
   "version": "3.7.0"
  }
 },
 "nbformat": 4,
 "nbformat_minor": 2
}
