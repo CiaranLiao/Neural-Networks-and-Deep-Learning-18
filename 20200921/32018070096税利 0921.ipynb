{
 "cells": [
  {
   "cell_type": "code",
   "execution_count": 3,
   "metadata": {},
   "outputs": [
    {
     "name": "stdout",
     "output_type": "stream",
     "text": [
      "0.8807970779778823\n"
     ]
    }
   ],
   "source": [
    "import numpy as np\n",
    "import math\n",
    "def sigmoid(z):\n",
    "    return 1/(1+math.exp(-z))\n",
    "print (sigmoid(2))"
   ]
  },
  {
   "cell_type": "code",
   "execution_count": 4,
   "metadata": {},
   "outputs": [
    {
     "name": "stdout",
     "output_type": "stream",
     "text": [
      "0.9525741268224334\n",
      "0.9999546021312976\n"
     ]
    }
   ],
   "source": [
    "import numpy as np\n",
    "class Perceptor(object):\n",
    "    def __init__(self,w,b):\n",
    "        self.w=w\n",
    "        self.b=b\n",
    "    def __call__(self,x):\n",
    "        return sigmoid(np.dot(x,self.w)+self.b)\n",
    "p=Perceptor([1,2,7],2)\n",
    "output=p([1,0,0])\n",
    "print(output)\n",
    "output=p([1,0,1])\n",
    "print(output)"
   ]
  },
  {
   "cell_type": "code",
   "execution_count": 2,
   "metadata": {},
   "outputs": [
    {
     "name": "stdout",
     "output_type": "stream",
     "text": [
      "重度污染：0.217\n",
      "中度污染：0.278\n",
      "轻度污染：0.229\n",
      "良好：0.276\n",
      "\n",
      "\n",
      "东四PM值的平均值：89.154\n",
      "东四环PM值的平均值：92.561\n",
      "农展馆PM值的平均值：88.644\n"
     ]
    }
   ],
   "source": [
    "import pandas as pd\n",
    "\n",
    "df=pd.read_csv('BeijingPM20100101_20151231.csv',encoding='gbk',usecols=['PM_Dongsi','PM_Dongsihuan','PM_Nongzhanguan'])\n",
    "pm150=df[(df['PM_Dongsi']>150)|(df['PM_Dongsihuan']>150)|(df['PM_Nongzhanguan']>150)].count().sum()\n",
    "pm75=df[(df['PM_Dongsi']>75)|(df['PM_Dongsihuan']>75)|(df['PM_Nongzhanguan']>75)].count().sum()\n",
    "pm35=df[(df['PM_Dongsi']>35)|(df['PM_Dongsihuan']>35)|(df['PM_Nongzhanguan']>35)].count().sum()\n",
    "pm0=df[(df['PM_Dongsi']>0)|(df['PM_Dongsihuan']>0)|(df['PM_Nongzhanguan']>0)].count().sum()\n",
    "\n",
    "print(\"重度污染：{:.3f}\".format(pm150/pm0))\n",
    "print(\"中度污染：{:.3f}\".format((pm75-pm150)/pm0))\n",
    "print(\"轻度污染：{:.3f}\".format((pm35-pm75)/pm0))\n",
    "print(\"良好：{:.3f}\".format((pm0-pm35)/pm0))\n",
    "print(\"\\n\")\n",
    "print(\"东四PM值的平均值：{:.3f}\".format(df['PM_Dongsi'].sum()/df['PM_Dongsi'].count()))\n",
    "print(\"东四环PM值的平均值：{:.3f}\".format(df['PM_Dongsihuan'].sum()/df['PM_Dongsihuan'].count()))\n",
    "print(\"农展馆PM值的平均值：{:.3f}\".format(df['PM_Nongzhanguan'].sum()/df['PM_Nongzhanguan'].count()))"
   ]
  },
  {
   "cell_type": "code",
   "execution_count": null,
   "metadata": {},
   "outputs": [],
   "source": []
  }
 ],
 "metadata": {
  "kernelspec": {
   "display_name": "Python 3",
   "language": "python",
   "name": "python3"
  },
  "language_info": {
   "codemirror_mode": {
    "name": "ipython",
    "version": 3
   },
   "file_extension": ".py",
   "mimetype": "text/x-python",
   "name": "python",
   "nbconvert_exporter": "python",
   "pygments_lexer": "ipython3",
   "version": "3.7.6"
  }
 },
 "nbformat": 4,
 "nbformat_minor": 4
}
