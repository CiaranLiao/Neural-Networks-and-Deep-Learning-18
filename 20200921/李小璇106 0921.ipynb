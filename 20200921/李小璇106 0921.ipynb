{
 "cells": [
  {
   "cell_type": "code",
   "execution_count": 2,
   "metadata": {},
   "outputs": [
    {
     "name": "stdout",
     "output_type": "stream",
     "text": [
      "0.8807970779778823\n"
     ]
    }
   ],
   "source": [
    "import math\n",
    "def sigmoid(z):\n",
    "    return 1/(1+math.exp(-z))\n",
    "print(sigmoid(2))"
   ]
  },
  {
   "cell_type": "code",
   "execution_count": 8,
   "metadata": {},
   "outputs": [
    {
     "name": "stdout",
     "output_type": "stream",
     "text": [
      "0.9525741268224334\n",
      "0.9999546021312976\n"
     ]
    }
   ],
   "source": [
    "import numpy as np\n",
    "class Perceptor(object):\n",
    "    def __init__(self,w,b):\n",
    "        self.w=w\n",
    "        self.b=b\n",
    "    def __call__(self,x):\n",
    "        return sigmoid(np.dot(x,self.w)+self.b)\n",
    "p=Perceptor([1,2,7],2)\n",
    "output=p([1,0,0])\n",
    "print(output)\n",
    "output=p([1,0,1])\n",
    "print(output)"
   ]
  },
  {
   "cell_type": "code",
   "execution_count": 11,
   "metadata": {},
   "outputs": [
    {
     "name": "stdout",
     "output_type": "stream",
     "text": [
      "重度污染：0.2167\n",
      "中度污染：34879.7833\n",
      "轻度污染：51024.5052\n",
      "良好：70490.2761\n",
      "东四PM平均值:89.1544\n",
      "东四环PM平均值:92.5608\n",
      "农展馆PM平均值:88.6437\n"
     ]
    }
   ],
   "source": [
    "import pandas as pd\n",
    "df=pd.read_csv(\"D://semester2020.2//Neutral Network//作业0921//BeijingPM20100101_20151231.csv\",encoding='gbk',usecols=['PM_Dongsi','PM_Dongsihuan','PM_Nongzhanguan'])\n",
    "\n",
    "plu150=df[(df['PM_Dongsi']>150)|(df['PM_Dongsihuan']>150)|(df['PM_Nongzhanguan']>150)].count().sum()\n",
    "plu75=df[(df['PM_Dongsi']>75)|(df['PM_Dongsihuan']>75)|(df['PM_Nongzhanguan']>75)].count().sum()\n",
    "plu35=df[(df['PM_Dongsi']>35)|(df['PM_Dongsihuan']>35)|(df['PM_Nongzhanguan']>35)].count().sum()\n",
    "plu0=df[(df['PM_Dongsi']>0)|(df['PM_Dongsihuan']>0)|(df['PM_Nongzhanguan']>0)].count().sum()\n",
    "print(\"重度污染：{:.4f}\".format(plu150/plu0))\n",
    "print(\"中度污染：{:.4f}\".format(plu75-plu150/plu0))\n",
    "print(\"轻度污染：{:.4f}\".format(plu35-plu75/plu0))\n",
    "print(\"良好：{:.4f}\".format(plu0-plu35/plu0)) \n",
    "print(\"东四PM平均值:{:.4f}\".format(df['PM_Dongsi'].sum()/df['PM_Dongsi'].count()))\n",
    "print(\"东四环PM平均值:{:.4f}\".format(df['PM_Dongsihuan'].sum()/df['PM_Dongsihuan'].count()))\n",
    "print(\"农展馆PM平均值:{:.4f}\".format(df['PM_Nongzhanguan'].sum()/df['PM_Nongzhanguan'].count()))"
   ]
  },
  {
   "cell_type": "code",
   "execution_count": null,
   "metadata": {},
   "outputs": [],
   "source": []
  }
 ],
 "metadata": {
  "kernelspec": {
   "display_name": "Python 3",
   "language": "python",
   "name": "python3"
  },
  "language_info": {
   "codemirror_mode": {
    "name": "ipython",
    "version": 3
   },
   "file_extension": ".py",
   "mimetype": "text/x-python",
   "name": "python",
   "nbconvert_exporter": "python",
   "pygments_lexer": "ipython3",
   "version": "3.7.6"
  }
 },
 "nbformat": 4,
 "nbformat_minor": 4
}
