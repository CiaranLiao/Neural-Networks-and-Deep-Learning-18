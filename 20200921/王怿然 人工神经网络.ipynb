{
 "cells": [
  {
   "cell_type": "code",
   "execution_count": 3,
   "metadata": {},
   "outputs": [
    {
     "name": "stdout",
     "output_type": "stream",
     "text": [
      "g(z)的结果为： [[0.88079708 0.99752738 0.99999386]\n",
      " [0.99330715 0.99999386 1.        ]\n",
      " [0.99966465 0.99999998 1.        ]]\n"
     ]
    }
   ],
   "source": [
    "import numpy as np\n",
    "import math\n",
    "\n",
    "x=np.array([1,2,3]);\n",
    "b=np.array([1,2,3]);\n",
    "w=np.array([[1,2,3],[4,5,6],[7,8,9]]);\n",
    "z=w*x+b;\n",
    "g=1/(1+math.e**(-z));\n",
    "print(\"g(z)的结果为：\",g);"
   ]
  },
  {
   "cell_type": "code",
   "execution_count": 18,
   "metadata": {},
   "outputs": [
    {
     "name": "stdout",
     "output_type": "stream",
     "text": [
      "重度污染：0.217\n",
      "中度污染：0.277\n",
      "轻度污染：0.228\n",
      "良好：0.277\n",
      "\n",
      "\n",
      "东四PM 1 月平均值：118.929\n",
      "东四环PM 1 月平均值：113.682\n",
      "农展馆PM 1 月平均值：122.537\n",
      "东四PM 2 月平均值：121.553\n",
      "东四环PM 2 月平均值：126.083\n",
      "农展馆PM 2 月平均值：117.886\n",
      "东四PM 3 月平均值：100.960\n",
      "东四环PM 3 月平均值：110.288\n",
      "农展馆PM 3 月平均值：100.604\n",
      "东四PM 4 月平均值：77.171\n",
      "东四环PM 4 月平均值：80.685\n",
      "农展馆PM 4 月平均值：73.314\n",
      "东四PM 5 月平均值：71.546\n",
      "东四环PM 5 月平均值：75.938\n",
      "农展馆PM 5 月平均值：66.594\n",
      "东四PM 6 月平均值：76.190\n",
      "东四环PM 6 月平均值：77.614\n",
      "农展馆PM 6 月平均值：73.750\n",
      "东四PM 7 月平均值：81.203\n",
      "东四环PM 7 月平均值：82.094\n",
      "农展馆PM 7 月平均值：71.372\n",
      "东四PM 8 月平均值：61.027\n",
      "东四环PM 8 月平均值：70.546\n",
      "农展馆PM 8 月平均值：56.879\n",
      "东四PM 9 月平均值：68.763\n",
      "东四环PM 9 月平均值：76.121\n",
      "农展馆PM 9 月平均值：66.101\n",
      "东四PM 10 月平均值：100.351\n",
      "东四环PM 10 月平均值：115.198\n",
      "农展馆PM 10 月平均值：106.452\n",
      "东四PM 11 月平均值：97.255\n",
      "东四环PM 11 月平均值：102.979\n",
      "农展馆PM 11 月平均值：106.239\n",
      "东四PM 12 月平均值：101.289\n",
      "东四环PM 12 月平均值：104.923\n",
      "农展馆PM 12 月平均值：109.331\n",
      "\n",
      "\n",
      "东四PM平均值：89.154\n",
      "东四环PM 12 月平均值：92.561\n",
      "农展馆PM 12 月平均值：88.644\n"
     ]
    }
   ],
   "source": [
    "import pandas as pd\n",
    "\n",
    "df=pd.read_csv('BeijingPM20100101_20151231.csv',encoding='gbk',usecols=['month','PM_Dongsi','PM_Dongsihuan','PM_Nongzhanguan'])\n",
    "\n",
    "wr150=df[(df['PM_Dongsi']>150)|(df['PM_Dongsihuan']>150)|(df['PM_Nongzhanguan']>150)].count().sum()\n",
    "wr75=df[(df['PM_Dongsi']>75)|(df['PM_Dongsihuan']>75)|(df['PM_Nongzhanguan']>75)].count().sum()\n",
    "wr35=df[(df['PM_Dongsi']>35)|(df['PM_Dongsihuan']>35)|(df['PM_Nongzhanguan']>35)].count().sum()\n",
    "wr0=df[(df['PM_Dongsi']>0)|(df['PM_Dongsihuan']>0)|(df['PM_Nongzhanguan']>0)].count().sum()\n",
    "\n",
    "print(\"重度污染：{:.3f}\".format(wr150/wr0))\n",
    "print(\"中度污染：{:.3f}\".format((wr75-wr150)/wr0))\n",
    "print(\"轻度污染：{:.3f}\".format((wr35-wr75)/wr0))\n",
    "print(\"良好：{:.3f}\".format((wr0-wr35)/wr0))\n",
    "\n",
    "print(\"\\n\")\n",
    "for i in range(1,13):\n",
    "    print(\"东四PM\",i,\"月平均值：{:.3f}\".format(df['PM_Dongsi'].loc[df['month']==i].sum()/df['PM_Dongsi'].loc[df['month']==i].count()))\n",
    "    print(\"东四环PM\",i,\"月平均值：{:.3f}\".format(df['PM_Dongsihuan'].loc[df['month']==i].sum()/df['PM_Dongsihuan'].loc[df['month']==i].count()))\n",
    "    print(\"农展馆PM\",i,\"月平均值：{:.3f}\".format(df['PM_Nongzhanguan'].loc[df['month']==i].sum()/df['PM_Nongzhanguan'].loc[df['month']==i].count()))\n",
    "\n",
    "print(\"\\n\")\n",
    "print(\"东四PM平均值：{:.3f}\".format(df['PM_Dongsi'].sum()/df['PM_Dongsi'].count()))\n",
    "print(\"东四环PM\",i,\"月平均值：{:.3f}\".format(df['PM_Dongsihuan'].sum()/df['PM_Dongsihuan'].count()))\n",
    "print(\"农展馆PM\",i,\"月平均值：{:.3f}\".format(df['PM_Nongzhanguan'].sum()/df['PM_Nongzhanguan'].count()))\n",
    "\n"
   ]
  }
 ],
 "metadata": {
  "kernelspec": {
   "display_name": "Python 3",
   "language": "python",
   "name": "python3"
  },
  "language_info": {
   "codemirror_mode": {
    "name": "ipython",
    "version": 3
   },
   "file_extension": ".py",
   "mimetype": "text/x-python",
   "name": "python",
   "nbconvert_exporter": "python",
   "pygments_lexer": "ipython3",
   "version": "3.7.0"
  }
 },
 "nbformat": 4,
 "nbformat_minor": 2
}
