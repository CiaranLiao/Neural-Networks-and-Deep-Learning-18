{
 "cells": [
  {
   "cell_type": "code",
   "execution_count": 3,
   "metadata": {},
   "outputs": [
    {
     "name": "stdout",
     "output_type": "stream",
     "text": [
      "g(z)的结果为： [[0.88079708 0.99752738 0.99999386]\n",
      " [0.99330715 0.99999386 1.        ]\n",
      " [0.99966465 0.99999998 1.        ]]\n"
     ]
    }
   ],
   "source": [
    "import numpy as np\n",
    "import math\n",
    "\n",
    "x=np.array([1,2,3]);\n",
    "b=np.array([1,2,3]);\n",
    "w=np.array([[1,2,3],[4,5,6],[7,8,9]]);\n",
    "z=w*x+b;\n",
    "g=1/(1+math.e**(-z));\n",
    "print(\"g(z)的结果为：\",g);"
   ]
  },
  {
   "cell_type": "code",
   "execution_count": 3,
   "metadata": {},
   "outputs": [
    {
     "name": "stdout",
     "output_type": "stream",
     "text": [
      "重度污染：0.218\n",
      "中度污染：0.276\n",
      "轻度污染：0.228\n",
      "良好：0.278\n",
      "\n",
      "\n",
      "东四PM 1 月平均值：182.928\n",
      "东四环PM 1 月平均值：nan\n",
      "农展馆PM 1 月平均值：122.537\n",
      "东四PM 2 月平均值：111.058\n",
      "东四环PM 2 月平均值：nan\n",
      "农展馆PM 2 月平均值：117.886\n",
      "东四PM 3 月平均值：109.900\n",
      "东四环PM 3 月平均值：128.669\n",
      "农展馆PM 3 月平均值：100.604\n",
      "东四PM 4 月平均值：64.781\n",
      "东四环PM 4 月平均值：63.974\n",
      "农展馆PM 4 月平均值：73.314\n",
      "东四PM 5 月平均值：91.127\n",
      "东四环PM 5 月平均值：102.015\n",
      "农展馆PM 5 月平均值：66.594\n",
      "东四PM 6 月平均值：109.303\n",
      "东四环PM 6 月平均值：117.134\n",
      "农展馆PM 6 月平均值：73.750\n",
      "东四PM 7 月平均值：73.468\n",
      "东四环PM 7 月平均值：84.609\n",
      "农展馆PM 7 月平均值：71.372\n",
      "东四PM 8 月平均值：64.408\n",
      "东四环PM 8 月平均值：74.064\n",
      "农展馆PM 8 月平均值：56.879\n",
      "东四PM 9 月平均值：84.791\n",
      "东四环PM 9 月平均值：81.962\n",
      "农展馆PM 9 月平均值：66.101\n",
      "东四PM 10 月平均值：103.535\n",
      "东四环PM 10 月平均值：101.410\n",
      "农展馆PM 10 月平均值：106.452\n",
      "东四PM 11 月平均值：82.918\n",
      "东四环PM 11 月平均值：83.772\n",
      "农展馆PM 11 月平均值：106.239\n",
      "东四PM 12 月平均值：86.883\n",
      "东四环PM 12 月平均值：92.051\n",
      "农展馆PM 12 月平均值：109.331\n",
      "\n",
      "\n",
      "东四PM平均值：89.154\n",
      "东四环PM 12 月平均值：92.561\n",
      "农展馆PM 12 月平均值：88.644\n"
     ]
    },
    {
     "name": "stderr",
     "output_type": "stream",
     "text": [
      "D:\\anaconda\\lib\\site-packages\\ipykernel_launcher.py:18: RuntimeWarning: invalid value encountered in double_scalars\n"
     ]
    }
   ],
   "source": [
    "import pandas as pd\n",
    "\n",
    "df=pd.read_csv('BeijingPM20100101_20151231.csv',encoding='gbk',usecols=['year','month','PM_Dongsi','PM_Dongsihuan','PM_Nongzhanguan'])\n",
    "\n",
    "wr150=df[(df['PM_Dongsi']>150)|(df['PM_Dongsihuan']>150)|(df['PM_Nongzhanguan']>150)].count().sum()\n",
    "wr75=df[(df['PM_Dongsi']>75)|(df['PM_Dongsihuan']>75)|(df['PM_Nongzhanguan']>75)].count().sum()\n",
    "wr35=df[(df['PM_Dongsi']>35)|(df['PM_Dongsihuan']>35)|(df['PM_Nongzhanguan']>35)].count().sum()\n",
    "wr0=df[(df['PM_Dongsi']>0)|(df['PM_Dongsihuan']>0)|(df['PM_Nongzhanguan']>0)].count().sum()\n",
    "\n",
    "print(\"重度污染：{:.3f}\".format(wr150/wr0))\n",
    "print(\"中度污染：{:.3f}\".format((wr75-wr150)/wr0))\n",
    "print(\"轻度污染：{:.3f}\".format((wr35-wr75)/wr0))\n",
    "print(\"良好：{:.3f}\".format((wr0-wr35)/wr0))\n",
    "\n",
    "print(\"\\n\")\n",
    "for i in range(1,13):\n",
    "    print(\"东四PM\",i,\"月平均值：{:.3f}\".format(df['PM_Dongsi'].loc[(df['month']==i)&(df['year']==2013)].sum()/df['PM_Dongsi'].loc[(df['month']==i)&(df['year']==2013)].count()))\n",
    "    print(\"东四环PM\",i,\"月平均值：{:.3f}\".format(df['PM_Dongsihuan'].loc[(df['month']==i)&(df['year']==2013)].sum()/df['PM_Dongsihuan'].loc[(df['month']==i)&(df['year']==2013)].count()))\n",
    "    print(\"农展馆PM\",i,\"月平均值：{:.3f}\".format(df['PM_Nongzhanguan'].loc[(df['month']==i)&(df['year']==2013)].sum()/df['PM_Nongzhanguan'].loc[(df['month']==i)&(df['year']==2013)].count()))\n",
    "\n",
    "print(\"\\n\")\n",
    "print(\"东四PM平均值：{:.3f}\".format(df['PM_Dongsi'].sum()/df['PM_Dongsi'].count()))\n",
    "print(\"东四环PM\",i,\"月平均值：{:.3f}\".format(df['PM_Dongsihuan'].sum()/df['PM_Dongsihuan'].count()))\n",
    "print(\"农展馆PM\",i,\"月平均值：{:.3f}\".format(df['PM_Nongzhanguan'].sum()/df['PM_Nongzhanguan'].count()))\n",
    "\n"
   ]
  }
 ],
 "metadata": {
  "kernelspec": {
   "display_name": "Python 3",
   "language": "python",
   "name": "python3"
  },
  "language_info": {
   "codemirror_mode": {
    "name": "ipython",
    "version": 3
   },
   "file_extension": ".py",
   "mimetype": "text/x-python",
   "name": "python",
   "nbconvert_exporter": "python",
   "pygments_lexer": "ipython3",
   "version": "3.7.0"
  }
 },
 "nbformat": 4,
 "nbformat_minor": 2
}
