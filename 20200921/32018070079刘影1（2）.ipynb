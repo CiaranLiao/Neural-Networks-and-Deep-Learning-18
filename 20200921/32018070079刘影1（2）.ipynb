{
 "cells": [
  {
   "cell_type": "code",
   "execution_count": 1,
   "metadata": {},
   "outputs": [
    {
     "ename": "SyntaxError",
     "evalue": "invalid syntax (<ipython-input-1-1b7ea42ebec1>, line 4)",
     "output_type": "error",
     "traceback": [
      "\u001b[1;36m  File \u001b[1;32m\"<ipython-input-1-1b7ea42ebec1>\"\u001b[1;36m, line \u001b[1;32m4\u001b[0m\n\u001b[1;33m    wr150=df[(df['PM_Dongsi']>150)|(df['PM_Dongsihuan']>150|(df['PM_Nongzhanguan']>150)].count.sum()\u001b[0m\n\u001b[1;37m                                                                                       ^\u001b[0m\n\u001b[1;31mSyntaxError\u001b[0m\u001b[1;31m:\u001b[0m invalid syntax\n"
     ]
    }
   ],
   "source": [
    "import numpy as np\n",
    "class Perceptor(object):\n",
    "    df_init_(self,w,b):\n",
    "        self.w=w\n",
    "        self.b=b\n",
    "        def_call_(self,x):\n",
    "            return sigmoid(np.dot(x,self.w)+self.b)\n",
    "        p=Petceptor([1,2,7],2)\n",
    "        output=p([1,0,0])\n",
    "        print(output)\n",
    "        output=p([1,0,1])\n",
    "        print(output)"
   ]
  },
  {
   "cell_type": "code",
   "execution_count": null,
   "metadata": {},
   "outputs": [],
   "source": []
  }
 ],
 "metadata": {
  "kernelspec": {
   "display_name": "Python 3",
   "language": "python",
   "name": "python3"
  },
  "language_info": {
   "codemirror_mode": {
    "name": "ipython",
    "version": 3
   },
   "file_extension": ".py",
   "mimetype": "text/x-python",
   "name": "python",
   "nbconvert_exporter": "python",
   "pygments_lexer": "ipython3",
   "version": "3.7.6"
  }
 },
 "nbformat": 4,
 "nbformat_minor": 4
}
