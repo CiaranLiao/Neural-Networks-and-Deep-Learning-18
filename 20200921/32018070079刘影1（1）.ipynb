{
 "cells": [
  {
   "cell_type": "code",
   "execution_count": 1,
   "metadata": {},
   "outputs": [
    {
     "ename": "SyntaxError",
     "evalue": "invalid syntax (<ipython-input-1-1b7ea42ebec1>, line 4)",
     "output_type": "error",
     "traceback": [
      "\u001b[1;36m  File \u001b[1;32m\"<ipython-input-1-1b7ea42ebec1>\"\u001b[1;36m, line \u001b[1;32m4\u001b[0m\n\u001b[1;33m    wr150=df[(df['PM_Dongsi']>150)|(df['PM_Dongsihuan']>150|(df['PM_Nongzhanguan']>150)].count.sum()\u001b[0m\n\u001b[1;37m                                                                                       ^\u001b[0m\n\u001b[1;31mSyntaxError\u001b[0m\u001b[1;31m:\u001b[0m invalid syntax\n"
     ]
    }
   ],
   "source": [
    "import pandas as pd\n",
    "df=pd.read_csv('BeijingPM20100101_20151231.csv',encoding='gbk',usecols['PM_Dongsi','PM_Dongsihuan','PM_Nongzhanguan'])\n",
    "\n",
    "wr150=df[(df['PM_Dongsi']>150)|(df['PM_Dongsihuan']>150|(df['PM_Nongzhanguan']>150)].count.sum()\n",
    "wr150=df[(df['PM_Dongsi']>75)|(df['PM_Dongsihuan']>75|(df['PM_Nongzhanguan']>75)].count.sum()\n",
    "wr150=df[(df['PM_Dongsi']>35)|(df['PM_Dongsihuan']>35|(df['PM_Nongzhanguan']>35)].count.sum()\n",
    "wr150=df[(df['PM_Dongsi']>0)|(df['PM_Dongsihuan']>0|(df['PM_Nongzhanguan']>0)].count.sum()  \n",
    "print(\"重度污染：{:.3f}\".format(wr150/wr0))  \n",
    "print(\"中度污染：{:.3f}\".format(wr75-wr150/wr0)) \n",
    "print(\"轻度污染：{:.3f}\".format(wr35-wr75/wr0)) \n",
    "print(\"良好：{:.3f}\".format(wr0-wr35/wr0)) \n",
    "print(\"\\n\")\n",
    "print(\"东四PM平均值：{:.3f}\".format(df['PM_Dongsi'].sum()/df[PM_Dongsi].count()))\n",
    "print(\"东四环PM平均值：{:.3f}\".format(df['PM_Dongsihuan'].sum()/df[PM_Dongsihuan].count()))    \n",
    "print(\"农展馆PM平均值：{:.3f}\".format(df['PM_Nongzhanguan'].sum()/df[PM_Nongzhanguan].count()))  "
   ]
  },
  {
   "cell_type": "code",
   "execution_count": null,
   "metadata": {},
   "outputs": [],
   "source": []
  }
 ],
 "metadata": {
  "kernelspec": {
   "display_name": "Python 3",
   "language": "python",
   "name": "python3"
  },
  "language_info": {
   "codemirror_mode": {
    "name": "ipython",
    "version": 3
   },
   "file_extension": ".py",
   "mimetype": "text/x-python",
   "name": "python",
   "nbconvert_exporter": "python",
   "pygments_lexer": "ipython3",
   "version": "3.7.6"
  }
 },
 "nbformat": 4,
 "nbformat_minor": 4
}
