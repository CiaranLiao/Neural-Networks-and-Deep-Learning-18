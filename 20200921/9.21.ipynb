{
 "cells": [
  {
   "cell_type": "code",
   "execution_count": 28,
   "metadata": {},
   "outputs": [
    {
     "name": "stdout",
     "output_type": "stream",
     "text": [
      "0.5\n",
      "0.2689414213699951\n"
     ]
    }
   ],
   "source": [
    "import numpy as np\n",
    "import math\n",
    "def sigmod(z):\n",
    "    return 1/(1+math.exp(-z))\n",
    "class perceptron(object):\n",
    "    def __init__(self,w,b):\n",
    "        self.w=w\n",
    "        self.b=b\n",
    "    def __call__(self,x):\n",
    "        return sigmod(np.dot(x,self.w)+self.b)\n",
    "p=perceptron([1,2,3],-4)\n",
    "output=p([1,0,1])\n",
    "print(output)\n",
    "output=p([1,1,0])\n",
    "print(output)"
   ]
  },
  {
   "cell_type": "code",
   "execution_count": 30,
   "metadata": {},
   "outputs": [
    {
     "name": "stdout",
     "output_type": "stream",
     "text": [
      "重度污染占比：0.166\n",
      "中度污染占比：0.259\n",
      "轻度污染占比：0.241\n",
      "优良空气占比：0.334\n"
     ]
    }
   ],
   "source": [
    "#打开csv文件\n",
    "import pandas as pd\n",
    "import numpy as np\n",
    "df=pd.read_csv('F:/qq/WeChat Files/wxid_2lhnvjh8tqny11/FileStorage/File/2020-10/BeijingPM20100101_20151231.csv',usecols=['PM_Dongsi','PM_Dongsihuan','PM_Nongzhanguan'])\n",
    "#数据处理1-删除缺省值\n",
    "data_arr=np.array(df.dropna(axis = 0))\n",
    "#求总小时数取平均值\n",
    "hour_val=np.mean(data_arr[:,2:],axis=1)\n",
    "#总小时数\n",
    "n_hours=hour_val.shape[0]\n",
    "#重度污染占比\n",
    "n_heavyHours=hour_val[hour_val>150].shape[0]\n",
    "print(\"重度污染占比：{:.3f}\".format(n_heavyHours/n_hours))\n",
    "#中度污染\n",
    "n_medium_hours=hour_val[(hour_val>75) & (hour_val<=150)].shape[0]\n",
    "print(\"中度污染占比：{:.3f}\".format(n_medium_hours/n_hours))\n",
    "# 轻度污染\n",
    "n_light_hours=hour_val[(hour_val > 35) & (hour_val <= 75)].shape[0]\n",
    "print(\"轻度污染占比：{:.3f}\".format(n_light_hours/n_hours))\n",
    "n_good_hours=hour_val[hour_val<=35].shape[0]\n",
    "print(\"优良空气占比：{:.3f}\".format(n_good_hours/n_hours))"
   ]
  },
  {
   "cell_type": "code",
   "execution_count": 34,
   "metadata": {
    "scrolled": true
   },
   "outputs": [
    {
     "name": "stdout",
     "output_type": "stream",
     "text": [
      "[2013. 2014. 2015.]\n",
      "[ 3.  4.  5.  6.  7.  8.  9. 10. 11. 12.]\n",
      "时间：2013-03\n",
      "东四污染平均数：117.99354838709678\n",
      "东四环污染平均数：128.4725806451613\n",
      "农展馆污染平均数：116.1774193548387\n",
      "\n",
      "\n",
      "时间：2013-04\n",
      "东四污染平均数：64.298937784522\n",
      "东四环污染平均数：63.165402124430955\n",
      "农展馆污染平均数：56.88770864946889\n",
      "\n",
      "\n",
      "时间：2013-05\n",
      "东四污染平均数：91.35816618911174\n",
      "东四环污染平均数：101.55014326647564\n",
      "农展馆污染平均数：77.11174785100286\n",
      "\n",
      "\n",
      "时间：2013-06\n",
      "东四污染平均数：110.01160092807424\n",
      "东四环污染平均数：119.17169373549883\n",
      "农展馆污染平均数：108.27146171693735\n",
      "\n",
      "\n",
      "时间：2013-07\n",
      "东四污染平均数：72.19110378912686\n",
      "东四环污染平均数：85.35090609555189\n",
      "农展馆污染平均数：74.67051070840198\n",
      "\n",
      "\n",
      "时间：2013-08\n",
      "东四污染平均数：63.986301369863014\n",
      "东四环污染平均数：69.77168949771689\n",
      "农展馆污染平均数：64.64687975646879\n",
      "\n",
      "\n",
      "时间：2013-09\n",
      "东四污染平均数：83.79607250755286\n",
      "东四环污染平均数：82.89577039274924\n",
      "农展馆污染平均数：80.97129909365559\n",
      "\n",
      "\n",
      "时间：2013-10\n",
      "东四污染平均数：102.78525641025641\n",
      "东四环污染平均数：101.52403846153847\n",
      "农展馆污染平均数：94.6923076923077\n",
      "\n",
      "\n",
      "时间：2013-11\n",
      "东四污染平均数：83.16338028169014\n",
      "东四环污染平均数：84.2338028169014\n",
      "农展馆污染平均数：83.55211267605634\n",
      "\n",
      "\n",
      "时间：2013-12\n",
      "东四污染平均数：87.7453505007153\n",
      "东四环污染平均数：92.02718168812589\n",
      "农展馆污染平均数：89.99570815450643\n",
      "\n",
      "\n"
     ]
    }
   ],
   "source": [
    "import pandas as pd\n",
    "import numpy as np\n",
    "df=pd.read_csv('F:/qq/WeChat Files/wxid_2lhnvjh8tqny11/FileStorage/File/2020-10/BeijingPM20100101_20151231.csv',usecols=['year','month','PM_Dongsi','PM_Dongsihuan','PM_Nongzhanguan'])\n",
    "data_arr=np.array(df.dropna(axis = 0))\n",
    "results=[]\n",
    "years=np.unique(data_arr[:,0])\n",
    "print(years)\n",
    "for year in years:\n",
    "    if year==2013:\n",
    "        year_data_arr=data_arr[data_arr[:,0]==year]\n",
    "        month_list=np.unique(year_data_arr[:,1])\n",
    "print(month_list)\n",
    "for month in month_list:\n",
    "    month_data_arr=year_data_arr[year_data_arr[:,1]==month]\n",
    "    means_val=np.mean(month_data_arr[:,2:],axis=0).tolist()\n",
    "    row_data=['2013-{:02.0f}'.format(month)]+means_val\n",
    "    results.append(row_data)\n",
    "for i in results:\n",
    "    print(\"时间：\"+i[0])\n",
    "    print(\"东四污染平均数：{}\".format(i[1]))\n",
    "    print(\"东四环污染平均数：{}\".format(i[2]))\n",
    "    print(\"农展馆污染平均数：{}\".format(i[3]))\n",
    "    print('\\n')"
   ]
  },
  {
   "cell_type": "code",
   "execution_count": null,
   "metadata": {},
   "outputs": [],
   "source": []
  },
  {
   "cell_type": "code",
   "execution_count": null,
   "metadata": {},
   "outputs": [],
   "source": []
  },
  {
   "cell_type": "code",
   "execution_count": null,
   "metadata": {},
   "outputs": [],
   "source": []
  },
  {
   "cell_type": "code",
   "execution_count": null,
   "metadata": {},
   "outputs": [],
   "source": []
  }
 ],
 "metadata": {
  "kernelspec": {
   "display_name": "Python 3",
   "language": "python",
   "name": "python3"
  },
  "language_info": {
   "codemirror_mode": {
    "name": "ipython",
    "version": 3
   },
   "file_extension": ".py",
   "mimetype": "text/x-python",
   "name": "python",
   "nbconvert_exporter": "python",
   "pygments_lexer": "ipython3",
   "version": "3.7.0"
  }
 },
 "nbformat": 4,
 "nbformat_minor": 2
}
